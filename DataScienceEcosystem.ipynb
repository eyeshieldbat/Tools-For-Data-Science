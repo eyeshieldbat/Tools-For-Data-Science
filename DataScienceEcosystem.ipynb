{
  "nbformat": 4,
  "nbformat_minor": 0,
  "metadata": {
    "colab": {
      "provenance": [],
      "gpuType": "T4",
      "authorship_tag": "ABX9TyMy1cuoyTZs/+pahrFU6rsk",
      "include_colab_link": true
    },
    "kernelspec": {
      "name": "python3",
      "display_name": "Python 3"
    },
    "language_info": {
      "name": "python"
    },
    "accelerator": "GPU"
  },
  "cells": [
    {
      "cell_type": "markdown",
      "metadata": {
        "id": "view-in-github",
        "colab_type": "text"
      },
      "source": [
        "<a href=\"https://colab.research.google.com/github/eyeshieldbat/Tools-For-Data-Science/blob/main/DataScienceEcosystem.ipynb\" target=\"_parent\"><img src=\"https://colab.research.google.com/assets/colab-badge.svg\" alt=\"Open In Colab\"/></a>"
      ]
    },
    {
      "cell_type": "markdown",
      "source": [
        "#Data Science Tools and Ecosystem"
      ],
      "metadata": {
        "id": "Mqi0rScGIjxg"
      }
    },
    {
      "cell_type": "markdown",
      "source": [
        "In this notebook, Data Science Tools and Ecosystem are summarized."
      ],
      "metadata": {
        "id": "IRnq5HEgJBFD"
      }
    },
    {
      "cell_type": "markdown",
      "source": [
        "**Objectives :**\n",
        "\n",
        "\n",
        "* Create markdown cells\n",
        "* Add comments to code cells\n",
        "* Add ordered and unordered lists to markdown cells\n",
        "* Format content of markdown cells with heading styles"
      ],
      "metadata": {
        "id": "TnwKc3xgeonE"
      }
    },
    {
      "cell_type": "markdown",
      "source": [
        "Some of the popular languages that Data Scientists use are:\n",
        "1.   Python\n",
        "2.   R\n",
        "3.   SQL\n",
        "\n",
        "\n"
      ],
      "metadata": {
        "id": "vhFPVm7dJ74C"
      }
    },
    {
      "cell_type": "markdown",
      "source": [
        "Some of the commonly used libraries used by Data Scientists include:\n",
        "1.   Pandas\n",
        "2.   Numpy\n",
        "3.   Matplotlib"
      ],
      "metadata": {
        "id": "R8-N6SWiLowq"
      }
    },
    {
      "cell_type": "markdown",
      "source": [
        "| Data Science Tools   |\n",
        "|----------|\n",
        "| Anaconda|\n",
        "| Jupyter Notebooks |\n",
        "| R Studio |"
      ],
      "metadata": {
        "id": "BKisc2P0NhxY"
      }
    },
    {
      "cell_type": "markdown",
      "source": [
        "###Below are a few examples of evaluating arithmetic expressions in Python"
      ],
      "metadata": {
        "id": "ZI0sqDxBZfcG"
      }
    },
    {
      "cell_type": "code",
      "execution_count": 1,
      "metadata": {
        "colab": {
          "base_uri": "https://localhost:8080/"
        },
        "id": "E9Dr1ErVFg61",
        "outputId": "608bbb9c-6f97-49c9-a669-eb46153233d2"
      },
      "outputs": [
        {
          "output_type": "execute_result",
          "data": {
            "text/plain": [
              "17"
            ]
          },
          "metadata": {},
          "execution_count": 1
        }
      ],
      "source": [
        "# This a simple arithmetic expression to mutiply then add integers\n",
        "(3*4)+5"
      ]
    },
    {
      "cell_type": "code",
      "source": [
        "# This will convert 200 minutes to hours by diving by 60\n",
        "200/60"
      ],
      "metadata": {
        "colab": {
          "base_uri": "https://localhost:8080/"
        },
        "id": "9lMFHb5MbJvf",
        "outputId": "031101b9-b901-4425-e02c-4a022e494663"
      },
      "execution_count": 2,
      "outputs": [
        {
          "output_type": "execute_result",
          "data": {
            "text/plain": [
              "3.3333333333333335"
            ]
          },
          "metadata": {},
          "execution_count": 2
        }
      ]
    },
    {
      "cell_type": "markdown",
      "source": [
        "##Author\n",
        "Renhard Sitorus"
      ],
      "metadata": {
        "id": "U0Ht6dfqdLgd"
      }
    },
    {
      "cell_type": "code",
      "source": [],
      "metadata": {
        "id": "KEv5znBgiVCd"
      },
      "execution_count": null,
      "outputs": []
    }
  ]
}